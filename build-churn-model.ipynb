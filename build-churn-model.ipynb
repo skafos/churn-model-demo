{
 "cells": [
  {
   "cell_type": "code",
   "execution_count": 2,
   "metadata": {},
   "outputs": [],
   "source": [
    "# This is the notebook version of build-churn-model.py. It is intended for use within the Skafos for Creators framework. "
   ]
  },
  {
   "cell_type": "code",
   "execution_count": 1,
   "metadata": {},
   "outputs": [],
   "source": [
    "from skafossdk import *\n",
    "import logging\n",
    "import random\n",
    "import pickle\n",
    "import datetime\n",
    "import pandas as pd\n",
    "from sklearn.model_selection import train_test_split\n",
    "from sklearn.linear_model import LogisticRegression\n",
    "from sklearn.ensemble import RandomForestClassifier\n",
    "from sklearn.metrics import accuracy_score, roc_auc_score\n",
    "\n",
    "from common.data import *\n",
    "from common.modeling import *"
   ]
  },
  {
   "cell_type": "code",
   "execution_count": 3,
   "metadata": {},
   "outputs": [
    {
     "name": "stdout",
     "output_type": "stream",
     "text": [
      "2018-12-31 17:30:57,902 - skafossdk.data_engine - INFO - Connecting to DataEngine\n",
      "2018-12-31 17:30:58,029 - skafossdk.data_engine - INFO - DataEngine Connection Opened\n"
     ]
    }
   ],
   "source": [
    "# Initialize Skafos object\n",
    "ska = Skafos()"
   ]
  },
  {
   "cell_type": "code",
   "execution_count": 5,
   "metadata": {},
   "outputs": [
    {
     "name": "stdout",
     "output_type": "stream",
     "text": [
      "2018-12-31 17:34:22,087 - skafossdk.skafos - INFO - [features] - List of model input: ['internet_service', 'monthly_charges', 'tenure', 'dependents', 'total_charges']\n"
     ]
    }
   ],
   "source": [
    "#Grab relevant features from those selected in the modeling.py file.   \n",
    "features = MODEL_INPUT_FEATURES\n",
    "ska.log(f\"List of model input: {features}\", labels=[\"features\"], level=logging.INFO)\n",
    "csvCols = features.copy()\n",
    "csvCols.append(TARGET_VARIABLE) # Break into features, label, ID\n",
    "csvCols.insert(0, UNIQUE_ID)\n"
   ]
  },
  {
   "cell_type": "code",
   "execution_count": 6,
   "metadata": {},
   "outputs": [],
   "source": [
    "#Get data from public S3 bucket\n",
    "df = get_data(csvCols, \"training\")"
   ]
  },
  {
   "cell_type": "code",
   "execution_count": 7,
   "metadata": {},
   "outputs": [],
   "source": [
    "# Split X and Y variables and convert categorial to dummy variables\n",
    "xVars = dummify_columns(df[features], features)\n",
    "yVar = df[TARGET_VARIABLE].apply(lambda x: 1 if x == \"Yes\" else 0)\n",
    "\n",
    "# Create train/test split. \n",
    "X_train, X_test, y_train, y_test = train_test_split(xVars, yVar, random_state=10)"
   ]
  },
  {
   "cell_type": "code",
   "execution_count": 10,
   "metadata": {},
   "outputs": [],
   "source": [
    "#Build logistic regression model\n",
    "lr = LogisticRegression(C=1.0, solver='liblinear')\n",
    "fittedModel = lr.fit(X_train, y_train)"
   ]
  },
  {
   "cell_type": "code",
   "execution_count": 12,
   "metadata": {},
   "outputs": [
    {
     "name": "stdout",
     "output_type": "stream",
     "text": [
      "2018-12-31 17:42:59,023 - skafossdk.skafos - INFO - [Metrics] - Training accuracy: 0.799115603284902\n",
      "2018-12-31 17:42:59,025 - skafossdk.skafos - INFO - [Metrics] - Training ROC_AUC: 0.8173776670261961\n"
     ]
    }
   ],
   "source": [
    "# Compare predictions to actual values and calculate accuracy and ROC\n",
    "y_preds = fittedModel.predict(X_test)\n",
    "y_scores = [p[1] for p in fittedModel.predict_proba(X_test)]\n",
    "model_accuracy = accuracy_score(y_test, y_preds)\n",
    "model_auc = roc_auc_score(y_test, y_scores)\n",
    "ska.log(f\"Training accuracy: {model_accuracy}\", labels=[\"Metrics\"], level=logging.INFO)\n",
    "ska.log(f\"Training ROC_AUC: {model_auc}\", labels=[\"Metrics\"], level=logging.INFO)"
   ]
  },
  {
   "cell_type": "code",
   "execution_count": 15,
   "metadata": {},
   "outputs": [
    {
     "name": "stdout",
     "output_type": "stream",
     "text": [
      "2018-12-31 17:45:49,153 - skafossdk.skafos - INFO - [modelsaving] - Model saved to Cassandra: {'data': {'name': 'logisticregression', 'version': '1546278349132', 'tags': ['LogisticRegression', 'latest'], 'deployment_id': 'faa9eb05-67de-40cf-a836-c99338c5fee7', 'job_id': '', 'project_token': '91633e3d419e23dc7a2da419', 'inserted_at': '2018-12-31T17:45:49Z'}, 'success': True, 'final': True} \n",
      "\n"
     ]
    }
   ],
   "source": [
    "# save model to Cassandra using the Skafos Data Engine\n",
    "pickledModel = pickle.dumps(fittedModel)\n",
    "saved_model = ska.engine.save_model(MODEL_TYPE, pickledModel, tags=[MODEL_TYPE, \"latest\"]).result()\n",
    "ska.log(f\"Model saved to Cassandra: {saved_model} \\n\", labels=[\"model saving\"], level=logging.INFO)"
   ]
  }
 ],
 "metadata": {
  "kernelspec": {
   "display_name": "Python 3",
   "language": "python",
   "name": "python3"
  },
  "language_info": {
   "codemirror_mode": {
    "name": "ipython",
    "version": 3
   },
   "file_extension": ".py",
   "mimetype": "text/x-python",
   "name": "python",
   "nbconvert_exporter": "python",
   "pygments_lexer": "ipython3",
   "version": "3.6.5"
  }
 },
 "nbformat": 4,
 "nbformat_minor": 2
}
